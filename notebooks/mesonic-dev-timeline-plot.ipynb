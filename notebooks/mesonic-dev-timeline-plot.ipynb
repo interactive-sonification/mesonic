{
 "cells": [
  {
   "attachments": {},
   "cell_type": "markdown",
   "id": "a3cc5d63",
   "metadata": {},
   "source": [
    "# Timeline.plot testing\n"
   ]
  },
  {
   "cell_type": "code",
   "execution_count": null,
   "id": "64cf5a35",
   "metadata": {},
   "outputs": [],
   "source": [
    "%load_ext autoreload\n",
    "%autoreload 2"
   ]
  },
  {
   "cell_type": "code",
   "execution_count": null,
   "id": "643272df",
   "metadata": {},
   "outputs": [],
   "source": [
    "import mesonic"
   ]
  },
  {
   "cell_type": "code",
   "execution_count": null,
   "id": "d2eaf53d",
   "metadata": {},
   "outputs": [],
   "source": [
    "import pyamapping as pam\n",
    "import math\n",
    "import matplotlib.patches as mpatches\n",
    "import matplotlib.pyplot as plt\n",
    "import numpy as np"
   ]
  },
  {
   "cell_type": "code",
   "execution_count": null,
   "id": "32724ee3",
   "metadata": {},
   "outputs": [],
   "source": [
    "%matplotlib inline\n",
    "plt.rcParams['figure.figsize'] = [8, 2]\n",
    "plt.rcParams['figure.dpi'] = 100"
   ]
  },
  {
   "cell_type": "code",
   "execution_count": null,
   "id": "c8dddc7b",
   "metadata": {},
   "outputs": [],
   "source": [
    "context = mesonic.create_context()"
   ]
  },
  {
   "cell_type": "code",
   "execution_count": null,
   "id": "523af966",
   "metadata": {},
   "outputs": [],
   "source": [
    "context.timeline"
   ]
  },
  {
   "cell_type": "code",
   "execution_count": null,
   "id": "ed72d1f6",
   "metadata": {},
   "outputs": [],
   "source": [
    "s1m = context.synths.create(\"s1\")\n",
    "s1i = context.synths.create(\"s1\", mutable=False)\n",
    "s2 = context.synths.create(\"s2\", track=1)"
   ]
  },
  {
   "cell_type": "code",
   "execution_count": null,
   "id": "d17f0484",
   "metadata": {},
   "outputs": [],
   "source": [
    "context.synths"
   ]
  },
  {
   "cell_type": "code",
   "execution_count": null,
   "id": "8cac3172",
   "metadata": {},
   "outputs": [],
   "source": [
    "context.clear() \n",
    "with context.at(0.3):\n",
    "    s2.start(freq=300, amp=0.1, pan=1)\n",
    "for t in range(4,10):\n",
    "    with context.at(t/10):  \n",
    "        s2.freq = 100 * t\n",
    "        s2.amp += 0.1\n",
    "        s2.pan = -1 * s2.pan.value\n",
    "with context.at((t+1)/10): \n",
    "    s2.stop()\n",
    "\n",
    "context.time = 1.25\n",
    "s1m.start(dur=2, pan=1, freq=450)  # parameters can be provided by keyword\n",
    "for i in range(1,5):\n",
    "    context.time += 0.25\n",
    "    s1m.pan *= -1  # it is also possible to use /= , += , -=    \n",
    "    if i % 2 == 0:\n",
    "        print(\"stop\")\n",
    "        context.time += 1\n",
    "        s1m.stop()\n",
    "        context.time += 1\n",
    "        s1m.start()\n",
    "context.time = None \n",
    "\n",
    "for i in range(5):\n",
    "    with context.at(3+i/4):\n",
    "        s1i.start(dur=1.0, freq=100 * (i+1))"
   ]
  },
  {
   "cell_type": "code",
   "execution_count": null,
   "id": "fa9607c8",
   "metadata": {},
   "outputs": [],
   "source": [
    "context.timeline"
   ]
  },
  {
   "cell_type": "code",
   "execution_count": null,
   "id": "d0ffd53b",
   "metadata": {},
   "outputs": [],
   "source": [
    "context.timeline.plot_new()"
   ]
  },
  {
   "cell_type": "code",
   "execution_count": null,
   "id": "ba90dcc6",
   "metadata": {},
   "outputs": [],
   "source": [
    "context.timeline"
   ]
  },
  {
   "cell_type": "code",
   "execution_count": null,
   "id": "cddc6dfe",
   "metadata": {},
   "outputs": [],
   "source": [
    "plt.figure()\n",
    "context.timeline.plot_new(offset=\"amp\", width=\"freq\")\n",
    "#plt.semilogy()"
   ]
  },
  {
   "cell_type": "code",
   "execution_count": null,
   "id": "ef9d734a",
   "metadata": {},
   "outputs": [],
   "source": [
    "context.timeline.plot_new(offset=\"freq\", width=\"pan\")"
   ]
  },
  {
   "cell_type": "code",
   "execution_count": null,
   "id": "168d3682",
   "metadata": {},
   "outputs": [],
   "source": [
    "context.timeline.plot_new(offset=\"pan\", width=\"freq\")"
   ]
  },
  {
   "cell_type": "code",
   "execution_count": null,
   "id": "c07e2905",
   "metadata": {},
   "outputs": [],
   "source": [
    "def safe_amp_to_db(amp):\n",
    "    return np.where(amp > 0, pam.amp_to_db(amp), -90)\n"
   ]
  },
  {
   "cell_type": "code",
   "execution_count": null,
   "id": "8efdb710",
   "metadata": {},
   "outputs": [],
   "source": [
    "safe_amp_to_db(-1)"
   ]
  },
  {
   "cell_type": "code",
   "execution_count": null,
   "id": "c3784465",
   "metadata": {},
   "outputs": [],
   "source": [
    "from mesonic.events import SynthEventType\n",
    "from mesonic.timeline import SynthEventPseudoStop"
   ]
  },
  {
   "cell_type": "code",
   "execution_count": null,
   "id": "14007d07",
   "metadata": {},
   "outputs": [],
   "source": [
    "def print_events(events, etype):\n",
    "    print(len(events[etype]), [t[0] for t in events[etype]])\n",
    "    \n",
    "for synth, events in context.timeline._check_consistency().items():\n",
    "    print()\n",
    "    print(synth)\n",
    "    print_events(events, SynthEventType.START)\n",
    "    print_events(events, SynthEventType.SET)\n",
    "    print_events(events, SynthEventType.STOP)\n",
    "    assert len(events[SynthEventType.START]) == len(events[SynthEventType.STOP])"
   ]
  },
  {
   "cell_type": "code",
   "execution_count": null,
   "id": "a4094e12",
   "metadata": {},
   "outputs": [],
   "source": [
    "s1i._param_values()"
   ]
  },
  {
   "cell_type": "code",
   "execution_count": null,
   "id": "bc969104",
   "metadata": {},
   "outputs": [],
   "source": [
    "val = 2.5\n",
    "\n",
    "li = list(range(5))\n",
    "le = list(range(1,6))\n",
    "print(li)\n",
    "print(le)\n",
    "\n",
    "iidx = 0\n",
    "for val in [0.5, 1.5,3.5,4.5]:\n",
    "    print(val)\n",
    "    while iidx < len(li) and li[iidx] < val:\n",
    "        iidx += 1\n",
    "\n",
    "    print(val, iidx)\n",
    "    li.insert(iidx, val)\n",
    "    le.insert(iidx-1, val)\n",
    "    print(li)\n",
    "    print(le)"
   ]
  },
  {
   "cell_type": "code",
   "execution_count": null,
   "id": "dd0a7184",
   "metadata": {},
   "outputs": [],
   "source": [
    "synth_plot_info = context.timeline._create_segments()"
   ]
  },
  {
   "cell_type": "code",
   "execution_count": null,
   "id": "a26866fe",
   "metadata": {},
   "outputs": [],
   "source": [
    "for synth, values in synth_plot_info.items():\n",
    "    print(synth)\n",
    "    print(synth.mutable)\n",
    "    for etype, events in values[\"events\"].items():\n",
    "        print(etype, [t[0] for t in events])\n",
    "    for key, vs in values[\"segments\"].items():\n",
    "        print(key, \"   \\t\", vs)"
   ]
  },
  {
   "cell_type": "code",
   "execution_count": null,
   "id": "cff2b33c",
   "metadata": {},
   "outputs": [],
   "source": [
    "fig = plt.figure()\n",
    "cmap = plt.get_cmap(\"Set1\")\n",
    "axes = fig.add_subplot(1, 1, 1)\n",
    "\n",
    "for synth in synth_plot_info.keys():\n",
    "    segments = synth_plot_info[synth][\"segments\"]\n",
    "    quiver = axes.quiver(\n",
    "        segments[\"begins\"],\n",
    "        segments[\"offsets\"],\n",
    "        np.array(segments[\"ends\"]) - np.array(segments[\"begins\"]),\n",
    "        0.0,\n",
    "        angles=0,\n",
    "        scale=1,\n",
    "        scale_units=\"x\",\n",
    "        headwidth=0,\n",
    "        headlength=0,\n",
    "        headaxislength=0,\n",
    "        linewidth=segments[\"widths\"],\n",
    "    )\n",
    "    quiver.set_linewidths(segments[\"widths\"])"
   ]
  },
  {
   "cell_type": "code",
   "execution_count": null,
   "id": "9d75c16a",
   "metadata": {},
   "outputs": [],
   "source": [
    "list(zip(zip(segments[\"begins\"], segments[\"offsets\"]), zip(segments[\"ends\"], segments[\"offsets\"])))"
   ]
  },
  {
   "cell_type": "code",
   "execution_count": null,
   "id": "22eb1fe3",
   "metadata": {},
   "outputs": [],
   "source": [
    "fig = plt.figure()\n",
    "cmap = plt.get_cmap(\"Set1\")\n",
    "axes = fig.add_subplot(1, 1, 1)\n",
    "from matplotlib.collections import LineCollection\n",
    "\n",
    "x_min, x_max = 0, 0\n",
    "y_min, y_max = 0, 0\n",
    "\n",
    "for synth in synth_plot_info.keys():\n",
    "    segments = synth_plot_info[synth][\"segments\"]\n",
    "    s = np.array(list(zip(\n",
    "        list(zip(segments[\"begins\"], segments[\"offsets\"])),\n",
    "        list(zip(segments[\"ends\"], segments[\"offsets\"])),\n",
    "    )))\n",
    "    lc = LineCollection(\n",
    "        s,\n",
    "        linewidth=segments[\"widths\"],\n",
    "    )\n",
    "    axes.add_collection(lc)\n",
    "\n",
    "    x_min = min(np.min(segments[\"begins\"]), x_min)\n",
    "    x_max = max(np.max(segments[\"ends\"]), x_max)\n",
    "    y_min = min(np.min(segments[\"offsets\"]), y_min)\n",
    "    y_max = max(np.max(segments[\"offsets\"]), y_max)\n",
    "\n",
    "x_lim = (x_max-x_min) * 0.1\n",
    "axes.set_xlim(x_min-x_lim,x_max+x_lim)\n",
    "y_lim = (y_max-y_min) * 0.1\n",
    "axes.set_ylim(y_min-y_lim,y_max+y_lim)\n",
    "axes.grid()\n",
    "plt.show()"
   ]
  },
  {
   "cell_type": "code",
   "execution_count": null,
   "id": "4750d112",
   "metadata": {},
   "outputs": [],
   "source": [
    "s.shape"
   ]
  },
  {
   "cell_type": "code",
   "execution_count": null,
   "id": "08b5ea46",
   "metadata": {},
   "outputs": [],
   "source": [
    "synth_plot_info[s2][\"segments\"]"
   ]
  },
  {
   "cell_type": "code",
   "execution_count": null,
   "id": "393a63bf",
   "metadata": {},
   "outputs": [],
   "source": [
    "synth_plot_info[s1i][\"segments\"]"
   ]
  },
  {
   "cell_type": "code",
   "execution_count": null,
   "id": "078512d9",
   "metadata": {},
   "outputs": [],
   "source": [
    "synth_plot_info[s1m][\"segments\"]"
   ]
  },
  {
   "cell_type": "code",
   "execution_count": null,
   "id": "af131d09",
   "metadata": {},
   "outputs": [],
   "source": [
    "x = np.arange(0,128)\n",
    "plt.plot(x, np.log(pam.midicps(x)))"
   ]
  },
  {
   "cell_type": "code",
   "execution_count": null,
   "id": "b9f1d715",
   "metadata": {},
   "outputs": [],
   "source": [
    "x = np.arange(0,128)\n",
    "plt.plot(x, (pam.midicps(x)))"
   ]
  },
  {
   "cell_type": "code",
   "execution_count": null,
   "id": "0c2ec9de",
   "metadata": {},
   "outputs": [],
   "source": [
    "x = np.arange(0,128)\n",
    "plt.plot(x, pam.midicps(x))\n",
    "plt.yscale(\"log\")"
   ]
  },
  {
   "cell_type": "code",
   "execution_count": null,
   "id": "8b821ebc-3a48-45cb-b7b9-9e4323c3b189",
   "metadata": {},
   "outputs": [],
   "source": [
    "s1m.freq.bounds = (300,1000)\n",
    "s1i.freq.bounds = (100,1000)\n",
    "s2.freq.bounds = (300,1000)"
   ]
  },
  {
   "cell_type": "code",
   "execution_count": null,
   "id": "c1860b8e-7545-481d-b90d-15659aef5198",
   "metadata": {},
   "outputs": [],
   "source": [
    "s1m.pan.bounds, s1i.pan.bounds, s2.pan.bounds"
   ]
  },
  {
   "cell_type": "code",
   "execution_count": null,
   "id": "d10cca98-07f7-450d-9f53-e839c07e8a1e",
   "metadata": {},
   "outputs": [],
   "source": [
    "context.timeline.plot()"
   ]
  },
  {
   "cell_type": "code",
   "execution_count": null,
   "id": "f1644995-ce87-4a9c-a179-50caef5db452",
   "metadata": {},
   "outputs": [],
   "source": [
    "for s in [s1m, s1i, s2]:\n",
    "    s1m.pan.bounds = -1,1"
   ]
  },
  {
   "cell_type": "code",
   "execution_count": null,
   "id": "6800f6ba-876f-4d29-9998-f4dfc2d53ea7",
   "metadata": {},
   "outputs": [],
   "source": [
    "context.timeline.plot(\"pan\")"
   ]
  },
  {
   "cell_type": "code",
   "execution_count": null,
   "id": "93cbee9e-0b95-4ce6-9cea-6e3014c3f2ca",
   "metadata": {},
   "outputs": [],
   "source": [
    "# close the context.\n",
    "context.close()\n",
    "# if all contexts are closed the backend should also exit."
   ]
  }
 ],
 "metadata": {
  "kernelspec": {
   "display_name": "Python 3 (ipykernel)",
   "language": "python",
   "name": "python3"
  },
  "language_info": {
   "codemirror_mode": {
    "name": "ipython",
    "version": 3
   },
   "file_extension": ".py",
   "mimetype": "text/x-python",
   "name": "python",
   "nbconvert_exporter": "python",
   "pygments_lexer": "ipython3",
   "version": "3.10.2"
  }
 },
 "nbformat": 4,
 "nbformat_minor": 5
}
